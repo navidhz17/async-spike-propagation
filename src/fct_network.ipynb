{
 "cells": [
  {
   "cell_type": "code",
   "execution_count": 1,
   "metadata": {},
   "outputs": [],
   "source": [
    "import json\n",
    "import numpy as np\n",
    "import os\n",
    "from scipy.signal import find_peaks\n",
    "\n",
    "from lif import lif_compute, spike_binary, id_synaptic_waveform\n",
    "from ou_process import ouprocess_gaussian\n",
    "from spike_sync import find_synced_spikes"
   ]
  },
  {
   "cell_type": "code",
   "execution_count": 11,
   "metadata": {},
   "outputs": [],
   "source": [
    "NUM_NEURONS = 200\n",
    "tau_V = 10\n",
    "R = 1 # MOhm\n",
    "EL = -70.0\n",
    "V_th = -40.0\n",
    "dt = 0.1 # msec\n",
    "t_stop = 30.0e3\n",
    "\n",
    "std_noise = 25\n",
    "\n",
    "W = np.zeros((NUM_NEURONS, NUM_NEURONS))\n",
    "train_input = None\n",
    "train_exp_output = None\n",
    "\n",
    "v_E = 0.0\n",
    "v_ave = -67.0\n",
    "\n",
    "tau_rise = 0.5\n",
    "tau_fall = 5.0\n",
    "syn_kernel_len = 50.0\n",
    "\n",
    "_ETA = None"
   ]
  },
  {
   "cell_type": "code",
   "execution_count": 6,
   "metadata": {},
   "outputs": [],
   "source": [
    "input_slow, _ = ouprocess_gaussian(50.0, dt, t_stop, 1)\n",
    "i_inj = 16.0 + 6.0*input_slow"
   ]
  },
  {
   "cell_type": "code",
   "execution_count": 8,
   "metadata": {},
   "outputs": [],
   "source": [
    "tt = np.arange(0.0, t_stop, dt)\n",
    "V = np.zeros((tt.shape[0], NUM_NEURONS)) # Membrane potential per neuron\n",
    "\n",
    "# Additive noise to individual neurons\n",
    "if _ETA is None \\\n",
    "        or int_noise_regen is True\\\n",
    "        or _ETA.shape != V.shape:\n",
    "    _ETA, _ = ouprocess_gaussian(5.0, dt, t_stop, NUM_NEURONS)\n",
    "\n",
    "F_binary = np.zeros((tt.shape[0], NUM_NEURONS))\n",
    "# avg_firing_rate = np.zeros(self.NUM_NEURONS)\n",
    "\n",
    "I_total = std_noise*_ETA + i_inj\n",
    "\n",
    "V = lif_compute(I_total, R, tau_V, V_th, dt)\n",
    "F_binary = spike_binary(V)\n",
    "\n",
    "syn_waveform = id_synaptic_waveform(\n",
    "    dt,\n",
    "    syn_kernel_len,\n",
    "    tau_rise,\n",
    "    tau_fall)\n",
    "syn_wave_len = syn_waveform.shape[0]\n",
    "t_steps = F_binary.shape[0]\n",
    "\n",
    "F_synaptic = np.zeros(F_binary.shape)\n",
    "for neuron in range(0, NUM_NEURONS):\n",
    "    fr_fast = np.convolve(F_binary[:,neuron], syn_waveform)\n",
    "    F_synaptic[:, neuron] = fr_fast[:-syn_wave_len+1]\n",
    "\n",
    "ind_neur = np.arange(0, NUM_NEURONS)\n",
    "Phi = F_synaptic[:t_steps, ind_neur]\n",
    "X2 = -1.0*v_ave*np.ones((t_steps,ind_neur.shape[0])) + v_E"
   ]
  },
  {
   "cell_type": "code",
   "execution_count": 12,
   "metadata": {},
   "outputs": [],
   "source": [
    "A = np.multiply(Phi, X2)\n",
    "out = np.dot(A, W)"
   ]
  },
  {
   "cell_type": "code",
   "execution_count": 19,
   "metadata": {},
   "outputs": [
    {
     "data": {
      "text/plain": [
       "(300000, 200)"
      ]
     },
     "execution_count": 19,
     "metadata": {},
     "output_type": "execute_result"
    }
   ],
   "source": [
    "out.shape"
   ]
  },
  {
   "cell_type": "code",
   "execution_count": null,
   "metadata": {},
   "outputs": [],
   "source": []
  }
 ],
 "metadata": {
  "kernelspec": {
   "display_name": "Python 3",
   "language": "python",
   "name": "python3"
  },
  "language_info": {
   "codemirror_mode": {
    "name": "ipython",
    "version": 3
   },
   "file_extension": ".py",
   "mimetype": "text/x-python",
   "name": "python",
   "nbconvert_exporter": "python",
   "pygments_lexer": "ipython3",
   "version": "3.7.3"
  }
 },
 "nbformat": 4,
 "nbformat_minor": 2
}
