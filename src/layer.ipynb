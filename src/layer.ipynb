{
 "cells": [
  {
   "cell_type": "code",
   "execution_count": 1,
   "metadata": {},
   "outputs": [],
   "source": [
    "%load_ext autoreload\n",
    "%autoreload 2\n",
    "\n",
    "import numpy as np\n",
    "from scipy.signal import find_peaks\n",
    "from matplotlib import pyplot as plt\n",
    "import seaborn as sns\n",
    "\n",
    "from lif import lif_compute, spike_binary, id_synaptic_waveform\n",
    "from ou_process import ouprocess_gaussian\n",
    "from spike_sync import find_synced_spikes\n",
    "\n",
    "sns.set()"
   ]
  },
  {
   "cell_type": "code",
   "execution_count": 21,
   "metadata": {},
   "outputs": [],
   "source": [
    "NUM_NEURONS = 1000 # 100\n",
    "tau_V = 10\n",
    "R = 1 # MOhm\n",
    "EL = -70.0\n",
    "V_th = -40.0\n",
    "dt = 0.1 # msec\n",
    "t_stop = 1.0e3 # 50.0e3\n",
    "tt = np.arange(0.0, t_stop, dt)\n",
    "# p.dt = dt; p.tStop = t_stop; ????????\n",
    "# tw = 100.0"
   ]
  },
  {
   "cell_type": "code",
   "execution_count": 22,
   "metadata": {},
   "outputs": [],
   "source": [
    "V = np.zeros((tt.shape[0], NUM_NEURONS)) # Membrane potential per neuron\n",
    "\n",
    "# Additive noise to individual neurons\n",
    "ETA, _ = ouprocess_gaussian(5.0, dt, t_stop, NUM_NEURONS)"
   ]
  },
  {
   "cell_type": "code",
   "execution_count": 23,
   "metadata": {},
   "outputs": [
    {
     "ename": "KeyboardInterrupt",
     "evalue": "",
     "output_type": "error",
     "traceback": [
      "\u001b[1;31m---------------------------------------------------------------------------\u001b[0m",
      "\u001b[1;31mKeyboardInterrupt\u001b[0m                         Traceback (most recent call last)",
      "\u001b[1;32m<ipython-input-23-274765038505>\u001b[0m in \u001b[0;36m<module>\u001b[1;34m\u001b[0m\n\u001b[0;32m     10\u001b[0m \u001b[1;33m\u001b[0m\u001b[0m\n\u001b[0;32m     11\u001b[0m \u001b[1;32mfor\u001b[0m \u001b[0mk\u001b[0m \u001b[1;32min\u001b[0m \u001b[0mrange\u001b[0m\u001b[1;33m(\u001b[0m\u001b[1;36m0\u001b[0m\u001b[1;33m,\u001b[0m \u001b[0mNUM_NEURONS\u001b[0m\u001b[1;33m)\u001b[0m\u001b[1;33m:\u001b[0m\u001b[1;33m\u001b[0m\u001b[1;33m\u001b[0m\u001b[0m\n\u001b[1;32m---> 12\u001b[1;33m     \u001b[0mV\u001b[0m\u001b[1;33m[\u001b[0m\u001b[1;33m:\u001b[0m\u001b[1;33m,\u001b[0m\u001b[0mk\u001b[0m\u001b[1;33m]\u001b[0m \u001b[1;33m=\u001b[0m \u001b[0mlif_compute\u001b[0m\u001b[1;33m(\u001b[0m\u001b[0mI_total\u001b[0m\u001b[1;33m[\u001b[0m\u001b[1;33m:\u001b[0m\u001b[1;33m,\u001b[0m \u001b[0mk\u001b[0m\u001b[1;33m]\u001b[0m\u001b[1;33m,\u001b[0m \u001b[0mR\u001b[0m\u001b[1;33m,\u001b[0m \u001b[0mtau_V\u001b[0m\u001b[1;33m,\u001b[0m \u001b[0mV_th\u001b[0m\u001b[1;33m,\u001b[0m \u001b[0mdt\u001b[0m\u001b[1;33m)\u001b[0m\u001b[1;33m\u001b[0m\u001b[1;33m\u001b[0m\u001b[0m\n\u001b[0m",
      "\u001b[1;32m~\\OneDrive\\Programs\\ResearchProjects\\Strong AI\\ReliableInfoTransfer\\neural-learning\\src\\lif.py\u001b[0m in \u001b[0;36mlif_compute\u001b[1;34m(I_Total, R, tau_V, Th, dt)\u001b[0m\n\u001b[0;32m     25\u001b[0m         \u001b[1;31m# No spike\u001b[0m\u001b[1;33m\u001b[0m\u001b[1;33m\u001b[0m\u001b[1;33m\u001b[0m\u001b[0m\n\u001b[0;32m     26\u001b[0m         \u001b[1;32melse\u001b[0m\u001b[1;33m:\u001b[0m\u001b[1;33m\u001b[0m\u001b[1;33m\u001b[0m\u001b[0m\n\u001b[1;32m---> 27\u001b[1;33m             \u001b[0mV_out\u001b[0m\u001b[1;33m[\u001b[0m\u001b[0mk\u001b[0m\u001b[1;33m]\u001b[0m \u001b[1;33m=\u001b[0m \u001b[0mV\u001b[0m\u001b[1;33m\u001b[0m\u001b[1;33m\u001b[0m\u001b[0m\n\u001b[0m\u001b[0;32m     28\u001b[0m             \u001b[0mk\u001b[0m \u001b[1;33m+=\u001b[0m \u001b[1;36m1\u001b[0m\u001b[1;33m\u001b[0m\u001b[1;33m\u001b[0m\u001b[0m\n\u001b[0;32m     29\u001b[0m         \u001b[0mV\u001b[0m \u001b[1;33m=\u001b[0m \u001b[0mV_out\u001b[0m\u001b[1;33m[\u001b[0m\u001b[0mk\u001b[0m\u001b[1;33m-\u001b[0m\u001b[1;36m1\u001b[0m\u001b[1;33m]\u001b[0m\u001b[1;33m\u001b[0m\u001b[1;33m\u001b[0m\u001b[0m\n",
      "\u001b[1;31mKeyboardInterrupt\u001b[0m: "
     ]
    }
   ],
   "source": [
    "# Slow Signal\n",
    "input_slow, _ = ouprocess_gaussian(50.0, dt, t_stop, 1)\n",
    "i_inj = 16.0 + 6.0*input_slow\n",
    "\n",
    "F_binary = np.zeros((tt.shape[0], NUM_NEURONS))\n",
    "avg_firing_rate = np.zeros(NUM_NEURONS)\n",
    "a2 = 25.0 # pA; std of noise\n",
    "\n",
    "I_total = a2*ETA + i_inj\n",
    "\n",
    "for k in range(0, NUM_NEURONS):\n",
    "    V[:,k] = lif_compute(I_total[:, k], R, tau_V, V_th, dt)"
   ]
  },
  {
   "cell_type": "code",
   "execution_count": null,
   "metadata": {},
   "outputs": [],
   "source": [
    "F_binary = spike_binary(V)\n",
    "avg_firing_rate = np.sum(F_binary, axis=0)/(t_stop/1.0e3)"
   ]
  },
  {
   "cell_type": "code",
   "execution_count": null,
   "metadata": {},
   "outputs": [],
   "source": [
    "plt.hist(avg_firing_rate)"
   ]
  },
  {
   "cell_type": "code",
   "execution_count": null,
   "metadata": {},
   "outputs": [],
   "source": [
    "trial = 10\n",
    "plt.figure(figsize=(20,5))\n",
    "plt.plot(V[:,trial], color='plum')\n",
    "plt.plot(F_binary[:,trial] * 40.0)\n",
    "plt.show()"
   ]
  },
  {
   "cell_type": "code",
   "execution_count": null,
   "metadata": {},
   "outputs": [],
   "source": [
    "F_binary.shape"
   ]
  },
  {
   "cell_type": "code",
   "execution_count": null,
   "metadata": {},
   "outputs": [],
   "source": [
    "spike_inds, spike_trial = np.where(F_binary > 0)\n",
    "plt.figure(figsize=(20,10))\n",
    "plt.scatter(spike_inds, spike_trial, s=2)"
   ]
  },
  {
   "cell_type": "code",
   "execution_count": null,
   "metadata": {},
   "outputs": [],
   "source": [
    "# ind = 0*1e3/p.dt+1:10*1e3/p.dt;\n",
    "# q=2;\n",
    "percentage_sync = 0.5\n",
    "window_sync = 5\n",
    "TW = 1\n",
    "psth_total = np.sum(F_binary,axis=1) # Sum of spikes from all neurons at a given t\n",
    "# psth_ = psth_total(ind);\n",
    "indx_async, indx_sync, sync_event, M_S = find_synced_spikes(psth_total, percentage_sync, window_sync, TW, NUM_NEURONS, dt, t_stop)\n",
    "# sig_sync = M_S;\n",
    "# sig_async = not M_S;\n",
    "# Sig_T{1}=sig_async(ind);\n",
    "# Sig_T{2}=sig_sync(ind);\n",
    "# sig_sync"
   ]
  },
  {
   "cell_type": "code",
   "execution_count": null,
   "metadata": {},
   "outputs": [],
   "source": [
    "plt.plot(M_S)"
   ]
  },
  {
   "cell_type": "code",
   "execution_count": null,
   "metadata": {},
   "outputs": [],
   "source": [
    "v_E = 0.0\n",
    "v_ave = -67.0\n",
    "\n",
    "tau_rise = 0.5\n",
    "tau_fall = 5.0\n",
    "syn_kernel_len = 50.0\n",
    "\n",
    "syn_waveform = id_synaptic_waveform(dt, syn_kernel_len, tau_rise, tau_fall)\n",
    "syn_wave_len = syn_waveform.shape[0]\n",
    "t_steps = F_binary.shape[0]"
   ]
  },
  {
   "cell_type": "code",
   "execution_count": null,
   "metadata": {},
   "outputs": [],
   "source": [
    "plt.plot(syn_waveform)"
   ]
  },
  {
   "cell_type": "code",
   "execution_count": null,
   "metadata": {},
   "outputs": [],
   "source": [
    "F_synaptic = np.zeros(F_binary.shape)\n",
    "for neuron in range(0, NUM_NEURONS):\n",
    "    fr_fast = np.convolve(F_binary[:,neuron], syn_waveform)\n",
    "    F_synaptic[:, neuron] = fr_fast[:-syn_wave_len+1]"
   ]
  },
  {
   "cell_type": "code",
   "execution_count": null,
   "metadata": {},
   "outputs": [],
   "source": [
    "plt.figure(figsize=(20,5))\n",
    "plt.plot(F_synaptic[:,10])\n",
    "# plt.plot(F_binary[:,10])"
   ]
  },
  {
   "cell_type": "code",
   "execution_count": null,
   "metadata": {},
   "outputs": [],
   "source": [
    "ind_neur = np.arange(0, NUM_NEURONS)\n",
    "Phi = F_synaptic[:t_steps, ind_neur]\n",
    "X2 = -v_ave*np.ones((t_steps,ind_neur.shape[0])) + v_E\n",
    "\n",
    "A = np.multiply(Phi, X2)\n",
    "W, residuals, rank, s = np.linalg.lstsq(A, i_inj)\n",
    "reconstructed = np.dot(A, W)"
   ]
  },
  {
   "cell_type": "code",
   "execution_count": null,
   "metadata": {},
   "outputs": [],
   "source": [
    "plt.figure(figsize=(20,10))\n",
    "plt.plot(i_inj)\n",
    "plt.plot(reconstructed, 'plum')"
   ]
  },
  {
   "cell_type": "code",
   "execution_count": null,
   "metadata": {},
   "outputs": [],
   "source": [
    "W.shape"
   ]
  },
  {
   "cell_type": "code",
   "execution_count": null,
   "metadata": {},
   "outputs": [],
   "source": [
    "np.zeros((NUM_NEURONS, 1)).shape"
   ]
  },
  {
   "cell_type": "code",
   "execution_count": null,
   "metadata": {},
   "outputs": [],
   "source": [
    "reconstructed.shape"
   ]
  },
  {
   "cell_type": "code",
   "execution_count": null,
   "metadata": {},
   "outputs": [],
   "source": [
    "# TESTING OUT VECTORIZED\n",
    "k = 0\n",
    "I_total = i_inj + a2*ETA[:,k]\n",
    "V[:,k] = lif_compute(I_total, R, tau_V, V_th, dt)\n",
    "V_selected = V[:, k, None]"
   ]
  },
  {
   "cell_type": "code",
   "execution_count": null,
   "metadata": {},
   "outputs": [],
   "source": []
  }
 ],
 "metadata": {
  "kernelspec": {
   "display_name": "Python 3",
   "language": "python",
   "name": "python3"
  },
  "language_info": {
   "codemirror_mode": {
    "name": "ipython",
    "version": 3
   },
   "file_extension": ".py",
   "mimetype": "text/x-python",
   "name": "python",
   "nbconvert_exporter": "python",
   "pygments_lexer": "ipython3",
   "version": "3.6.8"
  }
 },
 "nbformat": 4,
 "nbformat_minor": 2
}
